{
 "cells": [
  {
   "cell_type": "markdown",
   "metadata": {},
   "source": [
    "Import the preprepared dataset, indexed by system_metadata_id, and renaming columns to replace the '.' with _ to avoid later errors."
   ]
  },
  {
   "cell_type": "code",
   "execution_count": null,
   "metadata": {
    "tags": []
   },
   "outputs": [],
   "source": [
    "import requests\n",
    "from urllib import parse\n",
    "from pprint import pprint\n",
    "import pandas as pd\n",
    "import config\n",
    "import numpy as np\n",
    "import os, sys\n",
    "\n",
    "if not os.path.exists('data/cleaned_opendoar_data.csv'):\n",
    "    print('data/cleaned_opendoar_data.csv doesnt exist, please run international_opendoar.py to create it.')\n",
    "    sys.exit()\n",
    "\n",
    "input_data = 'data/cleaned_opendoar_data.csv'\n",
    "df_all_data = pd.read_csv(input_data, header=0)\n",
    "df_all_data.columns=df_all_data.columns.str.replace('.','_')\n",
    "df_all_data.set_index('system_metadata_id', inplace=True)\n",
    "\n",
    "display(df_all_data)\n",
    "\n",
    " "
   ]
  },
  {
   "cell_type": "markdown",
   "metadata": {},
   "source": [
    "### Types of RIS"
   ]
  },
  {
   "cell_type": "markdown",
   "metadata": {},
   "source": []
  },
  {
   "cell_type": "code",
   "execution_count": null,
   "metadata": {
    "tags": []
   },
   "outputs": [],
   "source": [
    "''' Table of count of RIS types'''\n",
    "vals = df_all_data.groupby(\"repository_metadata_software_name\").size().sort_values(ascending=False)\n",
    "display(vals)\n"
   ]
  },
  {
   "cell_type": "markdown",
   "metadata": {
    "tags": []
   },
   "source": [
    "&NewLine;  \n",
    "\n",
    "This contains a lot of 'other' values, but `repository_metadata_software_name` can be used to replace the 'other' value for something more specific."
   ]
  },
  {
   "cell_type": "code",
   "execution_count": null,
   "metadata": {
    "tags": []
   },
   "outputs": [],
   "source": [
    "display(df_all_data[\"repository_metadata_software_name\"])\n",
    "\n",
    "df_all_data.loc[df_all_data.repository_metadata_software_name == 'other', 'repository_metadata_software_name'] = df_all_data.repository_metadata_software_name_other\n"
   ]
  },
  {
   "cell_type": "code",
   "execution_count": null,
   "metadata": {
    "tags": []
   },
   "outputs": [],
   "source": [
    "display(df_all_data[\"repository_metadata_software_name\"])\n"
   ]
  },
  {
   "cell_type": "code",
   "execution_count": null,
   "metadata": {
    "tags": []
   },
   "outputs": [],
   "source": [
    "display(df_all_data)"
   ]
  },
  {
   "cell_type": "markdown",
   "metadata": {},
   "source": [
    "We can now redo the table with better detail."
   ]
  },
  {
   "cell_type": "code",
   "execution_count": null,
   "metadata": {
    "tags": []
   },
   "outputs": [],
   "source": [
    "''' Table of count of RIS types'''\n",
    "vals = df_all_data.groupby(\"repository_metadata_software_name\").size().sort_values(ascending=False)\n",
    "display(vals)"
   ]
  },
  {
   "cell_type": "markdown",
   "metadata": {},
   "source": [
    "and dump to latex if needed."
   ]
  },
  {
   "cell_type": "code",
   "execution_count": null,
   "metadata": {
    "scrolled": true,
    "tags": []
   },
   "outputs": [],
   "source": [
    "vals.to_latex()"
   ]
  },
  {
   "cell_type": "code",
   "execution_count": null,
   "metadata": {
    "tags": []
   },
   "outputs": [],
   "source": [
    "df_all_data.to_csv('./all_data.csv')"
   ]
  },
  {
   "cell_type": "code",
   "execution_count": null,
   "metadata": {},
   "outputs": [],
   "source": []
  }
 ],
 "metadata": {
  "kernelspec": {
   "display_name": "Python 3 (ipykernel)",
   "language": "python",
   "name": "python3"
  },
  "language_info": {
   "codemirror_mode": {
    "name": "ipython",
    "version": 3
   },
   "file_extension": ".py",
   "mimetype": "text/x-python",
   "name": "python",
   "nbconvert_exporter": "python",
   "pygments_lexer": "ipython3",
   "version": "3.10.6"
  }
 },
 "nbformat": 4,
 "nbformat_minor": 4
}
